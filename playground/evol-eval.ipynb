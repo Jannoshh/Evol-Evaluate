{
 "cells": [
  {
   "cell_type": "code",
   "execution_count": 13,
   "id": "initial_id",
   "metadata": {
    "ExecuteTime": {
     "end_time": "2023-11-25T21:58:35.531577300Z",
     "start_time": "2023-11-25T21:58:35.500327600Z"
    },
    "collapsed": true
   },
   "outputs": [],
   "source": [
    "import os\n",
    "import random\n",
    "from dotenv import load_dotenv\n",
    "import re"
   ]
  },
  {
   "cell_type": "markdown",
   "id": "c44587620cd90102",
   "metadata": {
    "collapsed": false
   },
   "source": [
    "Create base dataset"
   ]
  },
  {
   "cell_type": "code",
   "execution_count": 2,
   "id": "ff3933e42e876d39",
   "metadata": {
    "collapsed": false
   },
   "outputs": [],
   "source": [
    "create_prompt = \"\"\"Temp\"\"\"\n",
    "\n",
    "base_evaluations = []\n",
    "n = 10\n",
    "for i in range(n):\n",
    "    eval = None\n",
    "    base_evaluations.append(eval)"
   ]
  },
  {
   "cell_type": "markdown",
   "id": "4f698fb29b1ee87f",
   "metadata": {
    "collapsed": false
   },
   "source": [
    "Evolve base dataset"
   ]
  },
  {
   "cell_type": "code",
   "execution_count": 16,
   "id": "9171d9838ba63855",
   "metadata": {
    "collapsed": false
   },
   "outputs": [],
   "source": [
    "# Base instructions for evolving the prompts\n",
    "base_instruction = \"\"\"I want you to act as a Prompt Rewriter.\n",
    "Your objective is to rewrite a given prompt into a more complex version to make those famous AI systems (e.g., chatgpt and GPT4) a bit harder to handle.\n",
    "But the rewritten prompt must be reasonable and must be understood and responded by humans.\n",
    "Your rewriting cannot omit the non-text parts such as the table and code in #The Given Prompt#:. Also, please do not omit the input in #The Given Prompt#.\n",
    "You SHOULD complicate the given prompt using the following method:\n",
    "{{}}\n",
    "You should try your best not to make the #Rewritten Prompt# become verbose, #Rewritten Prompt# can only add 10 to 20 words into #The Given Prompt#.\n",
    "'#The Given Prompt#', '#Rewritten Prompt#', 'given prompt' and 'rewritten prompt' are not allowed to appear in #Rewritten Prompt#\"\"\"\n",
    "\n",
    "base_instruction_breadth = \"\"\"I want you to act as a Prompt Creator.\n",
    "Your goal is to draw inspiration from the #Given Prompt# to create a brand new prompt.\n",
    "This new prompt should belong to the same domain as the #Given Prompt# but be even more rare.\n",
    "The LENGTH and complexity of the #Created Prompt# should be similar to that of the #Given Prompt#.\n",
    "The #Created Prompt# must be reasonable and must be understood and responded by humans.\n",
    "'#Given Prompt#', '#Created Prompt#', 'given prompt' and 'created prompt' are not allowed to appear in #Created Prompt#\"\"\"\n",
    "\n",
    "\n",
    "class EvalEvolver:\n",
    "    def __init__(self, llm):\n",
    "        self.llm = llm\n",
    "        self.operations = {\n",
    "            \"in_depth\": [self.create_constraints_prompt, self.create_deepen_prompt,\n",
    "                         self.create_concretizing_prompt, self.create_reasoning_prompt],\n",
    "            \"in_breadth\": self.create_breadth_prompt\n",
    "        }\n",
    "\n",
    "    def evolve_instruction(self, instruction: str) -> str:\n",
    "        evolution_type = \"in_depth\" if random.random() < 0.5 else \"in_breadth\"\n",
    "        operation = random.choice(self.operations[evolution_type])\n",
    "        evolved_instruction = operation(instruction)\n",
    "\n",
    "        # Send the evolved_instruction to the LLM for generating the response\n",
    "        response = self.llm(evolved_instruction)\n",
    "        return response\n",
    "\n",
    "    def create_constraints_prompt(self, instruction):\n",
    "        method_description = \"Please add one more constraints/requirements into #The Given Prompt#\"\n",
    "        prompt = base_instruction.format(method_description)\n",
    "        prompt += f\"#The Given Prompt#:\\n{instruction}\\n\"\n",
    "        prompt += \"#Rewritten Prompt#:\\n\"\n",
    "        return prompt\n",
    "\n",
    "    def create_deepen_prompt(self, instruction):\n",
    "        method_description = \"If #The Given Prompt# contains inquiries about certain issues, the depth and breadth of the inquiry can be increased.\"\n",
    "        prompt = base_instruction.format(method_description)\n",
    "        prompt += f\"#The Given Prompt#:\\n{instruction}\\n\"\n",
    "        prompt += \"#Rewritten Prompt#:\\n\"\n",
    "        return prompt\n",
    "\n",
    "    def create_concretizing_prompt(self, instruction):\n",
    "        method_description = \"Please replace general concepts with more specific concepts.\"\n",
    "        prompt = base_instruction.format(method_description)\n",
    "        prompt += f\"#The Given Prompt#:\\n{instruction}\\r\\n\"\n",
    "        prompt += \"#Rewritten Prompt#:\\n\"\n",
    "        return prompt\n",
    "\n",
    "    def create_reasoning_prompt(self, instruction):\n",
    "        method_description = \"If #The Given Prompt# can be solved with just a few simple thinking processes, you can rewrite it to explicitly request multiple-step reasoning.\"\n",
    "        prompt = base_instruction.format(method_description)\n",
    "        prompt += f\"#The Given Prompt#:\\n{instruction}\\n\"\n",
    "        prompt += \"#Rewritten Prompt#:\\n\"\n",
    "        return prompt\n",
    "\n",
    "    def create_breadth_prompt(self, instruction):\n",
    "        prompt = base_instruction_breadth\n",
    "        prompt += f\"\\n#Given Prompt#:\\n{instruction}\\n\"\n",
    "        prompt += \"#Created Prompt#:\\n\"\n",
    "        return prompt\n",
    "\n",
    "    \n",
    "class EvalEliminator:\n",
    "    def __init__(self, llm):\n",
    "        self.llm = llm\n",
    "\n",
    "    def eliminate(self, instructions: list[str]) -> list[str]:\n",
    "        valid_instructions = []\n",
    "        for instruction in instructions:\n",
    "            response = self.llm(instruction)  # Simulating a response from the LLM\n",
    "            if not self.is_failure(instruction, response):\n",
    "                valid_instructions.append(instruction)\n",
    "        return valid_instructions\n",
    "\n",
    "    def is_failure(self, instruction: str, response: str) -> bool:\n",
    "        return self.lacks_information_gain(instruction, response) or \\\n",
    "            self.is_difficult_for_llm(response) or \\\n",
    "            self.is_only_stop_words(response) or \\\n",
    "            self.copies_prompt_words(instruction)\n",
    "\n",
    "    def lacks_information_gain(self, instruction: str, response: str) -> bool:\n",
    "        # Placeholder for information gain check\n",
    "        # This would involve comparing the original instruction and the response\n",
    "        # to determine if there's significant new information or complexity.\n",
    "        # The actual implementation depends on the specifics in Appendix G.\n",
    "        pass\n",
    "\n",
    "    def is_difficult_for_llm(self, response: str) -> bool:\n",
    "        return \"sorry\" in response and len(response.split()) < 80\n",
    "\n",
    "    def is_only_stop_words(self, response: str) -> bool:\n",
    "        # Check if response contains only punctuation and stop words\n",
    "        # A more sophisticated implementation might be needed for a full check.\n",
    "        return not bool(re.search(r'\\b\\w+\\b', response) and not re.fullmatch(r'[.,!?;]+', response))\n",
    "\n",
    "    def copies_prompt_words(self, instruction: str) -> bool:\n",
    "        # Check for phrases indicating lack of originality in the instruction\n",
    "        copied_phrases = [\"given prompt\", \"rewritten prompt\", \"#Rewritten Prompt#\"]\n",
    "        return any(phrase in instruction for phrase in copied_phrases)\n"
   ]
  },
  {
   "cell_type": "code",
   "execution_count": 17,
   "id": "694596da588a96af",
   "metadata": {
    "collapsed": false
   },
   "outputs": [],
   "source": [
    "from openai import OpenAI\n",
    "\n",
    "class OpenAIWrapper:\n",
    "    def __init__(self):\n",
    "        self.client = OpenAI()\n",
    "\n",
    "    def generate_response(self, user_prompt, system_prompt=None):\n",
    "        messages = []\n",
    "        if system_prompt is not None:\n",
    "            messages.append({\"role\": \"system\", \"content\": system_prompt})\n",
    "        messages.append({\"role\": \"user\", \"content\": user_prompt})\n",
    "\n",
    "        completion = self.client.chat.completions.create(\n",
    "            model=\"gpt-3.5-turbo-1106\",\n",
    "            messages=messages\n",
    "        )\n",
    "        return completion.choices[0].message"
   ]
  },
  {
   "cell_type": "code",
   "execution_count": 18,
   "metadata": {},
   "outputs": [],
   "source": [
    "load_dotenv() \n",
    "OPENAI_API_KEY=os.environ.get(\"OPENAI_API_KEY\")\n"
   ]
  },
  {
   "cell_type": "code",
   "execution_count": 19,
   "id": "5559e638ee723237",
   "metadata": {
    "collapsed": false
   },
   "outputs": [
    {
     "ename": "TypeError",
     "evalue": "'OpenAIWrapper' object is not callable",
     "output_type": "error",
     "traceback": [
      "\u001b[1;31m---------------------------------------------------------------------------\u001b[0m",
      "\u001b[1;31mTypeError\u001b[0m                                 Traceback (most recent call last)",
      "\u001b[1;32mc:\\Users\\jaime\\Github_Hpi3\\Evol-Evaluate\\evol-eval.ipynb Cell 8\u001b[0m line \u001b[0;36m9\n\u001b[0;32m      <a href='vscode-notebook-cell:/c%3A/Users/jaime/Github_Hpi3/Evol-Evaluate/evol-eval.ipynb#W6sZmlsZQ%3D%3D?line=6'>7</a>\u001b[0m evolved_evaluations \u001b[39m=\u001b[39m []\n\u001b[0;32m      <a href='vscode-notebook-cell:/c%3A/Users/jaime/Github_Hpi3/Evol-Evaluate/evol-eval.ipynb#W6sZmlsZQ%3D%3D?line=7'>8</a>\u001b[0m \u001b[39mfor\u001b[39;00m evaluation \u001b[39min\u001b[39;00m base_evaluations:\n\u001b[1;32m----> <a href='vscode-notebook-cell:/c%3A/Users/jaime/Github_Hpi3/Evol-Evaluate/evol-eval.ipynb#W6sZmlsZQ%3D%3D?line=8'>9</a>\u001b[0m     evolved_evaluation \u001b[39m=\u001b[39m evol_instruct\u001b[39m.\u001b[39;49mevolve_instruction(evaluation)\n\u001b[0;32m     <a href='vscode-notebook-cell:/c%3A/Users/jaime/Github_Hpi3/Evol-Evaluate/evol-eval.ipynb#W6sZmlsZQ%3D%3D?line=9'>10</a>\u001b[0m     evolved_evaluation\u001b[39m.\u001b[39mappend(evolved_evaluation)\n\u001b[0;32m     <a href='vscode-notebook-cell:/c%3A/Users/jaime/Github_Hpi3/Evol-Evaluate/evol-eval.ipynb#W6sZmlsZQ%3D%3D?line=10'>11</a>\u001b[0m     \u001b[39mprint\u001b[39m(\u001b[39mf\u001b[39m\u001b[39m\"\u001b[39m\u001b[39mOriginal: \u001b[39m\u001b[39m{\u001b[39;00mevaluation\u001b[39m}\u001b[39;00m\u001b[39m -> Evolved: \u001b[39m\u001b[39m{\u001b[39;00mevolved_evaluation\u001b[39m}\u001b[39;00m\u001b[39m\"\u001b[39m)\n",
      "\u001b[1;32mc:\\Users\\jaime\\Github_Hpi3\\Evol-Evaluate\\evol-eval.ipynb Cell 8\u001b[0m line \u001b[0;36m3\n\u001b[0;32m     <a href='vscode-notebook-cell:/c%3A/Users/jaime/Github_Hpi3/Evol-Evaluate/evol-eval.ipynb#W6sZmlsZQ%3D%3D?line=30'>31</a>\u001b[0m evolved_instruction \u001b[39m=\u001b[39m operation(instruction)\n\u001b[0;32m     <a href='vscode-notebook-cell:/c%3A/Users/jaime/Github_Hpi3/Evol-Evaluate/evol-eval.ipynb#W6sZmlsZQ%3D%3D?line=32'>33</a>\u001b[0m \u001b[39m# Send the evolved_instruction to the LLM for generating the response\u001b[39;00m\n\u001b[1;32m---> <a href='vscode-notebook-cell:/c%3A/Users/jaime/Github_Hpi3/Evol-Evaluate/evol-eval.ipynb#W6sZmlsZQ%3D%3D?line=33'>34</a>\u001b[0m response \u001b[39m=\u001b[39m \u001b[39mself\u001b[39;49m\u001b[39m.\u001b[39;49mllm(evolved_instruction)\n\u001b[0;32m     <a href='vscode-notebook-cell:/c%3A/Users/jaime/Github_Hpi3/Evol-Evaluate/evol-eval.ipynb#W6sZmlsZQ%3D%3D?line=34'>35</a>\u001b[0m \u001b[39mreturn\u001b[39;00m response\n",
      "\u001b[1;31mTypeError\u001b[0m: 'OpenAIWrapper' object is not callable"
     ]
    }
   ],
   "source": [
    "llm = OpenAIWrapper()\n",
    "evol_instruct = EvalEvolver(llm)  # Assuming llm is your language model callable\n",
    "eliminator = EvalEliminator(llm)\n",
    "\n",
    "# Evolve each evaluation and log the evolution\n",
    "current_evaluations = base_evaluations\n",
    "evolved_evaluations = []\n",
    "for evaluation in base_evaluations:\n",
    "    evolved_evaluation = evol_instruct.evolve_instruction(evaluation)\n",
    "    evolved_evaluation.append(evolved_evaluation)\n",
    "    print(f\"Original: {evaluation} -> Evolved: {evolved_evaluation}\")\n",
    "\n",
    "# Filter out failed evaluations and log the filtering\n",
    "filtered_evaluations = eliminator.eliminate(evolved_evaluations)\n",
    "for evaluation in evolved_evaluations:\n",
    "    if evaluation in filtered_evaluations:\n",
    "        print(f\"Kept: {evaluation}\")\n",
    "    else:\n",
    "        print(f\"Filtered: {evaluation}\")"
   ]
  },
  {
   "cell_type": "code",
   "execution_count": null,
   "metadata": {},
   "outputs": [],
   "source": []
  }
 ],
 "metadata": {
  "kernelspec": {
   "display_name": "Python 3",
   "language": "python",
   "name": "python3"
  },
  "language_info": {
   "codemirror_mode": {
    "name": "ipython",
    "version": 3
   },
   "file_extension": ".py",
   "mimetype": "text/x-python",
   "name": "python",
   "nbconvert_exporter": "python",
   "pygments_lexer": "ipython3",
   "version": "3.10.0"
  }
 },
 "nbformat": 4,
 "nbformat_minor": 5
}
